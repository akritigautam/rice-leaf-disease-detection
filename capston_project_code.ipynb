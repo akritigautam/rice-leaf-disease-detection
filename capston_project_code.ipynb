{
 "cells": [
  {
   "cell_type": "code",
   "execution_count": 1,
   "id": "e43e6412",
   "metadata": {},
   "outputs": [
    {
     "name": "stdout",
     "output_type": "stream",
     "text": [
      "Requirement already satisfied: split-folders in c:\\users\\akrit\\anaconda3\\lib\\site-packages (0.5.1)\n"
     ]
    }
   ],
   "source": [
    "!pip install split-folders"
   ]
  },
  {
   "cell_type": "code",
   "execution_count": 2,
   "id": "67e4c2f9",
   "metadata": {},
   "outputs": [],
   "source": [
    "import splitfolders"
   ]
  },
  {
   "cell_type": "code",
   "execution_count": 3,
   "id": "ff404d50",
   "metadata": {},
   "outputs": [
    {
     "name": "stderr",
     "output_type": "stream",
     "text": [
      "Copying files: 120 files [00:00, 247.63 files/s]\n"
     ]
    }
   ],
   "source": [
    "splitfolders.ratio('rice_leaf_diseases', output=\"output\", seed=1337, ratio=(.8, 0.1,0.1))"
   ]
  },
  {
   "cell_type": "code",
   "execution_count": 4,
   "id": "d20df1c6",
   "metadata": {},
   "outputs": [],
   "source": [
    "from tensorflow.keras.layers import Input, Lambda, Dense, Flatten\n",
    "from tensorflow.keras.models import Model\n",
    "from tensorflow.keras.applications.vgg16 import VGG16\n",
    "from tensorflow.keras.applications.vgg16 import preprocess_input\n",
    "from tensorflow.keras.preprocessing import image\n",
    "from tensorflow.keras.preprocessing.image import ImageDataGenerator,load_img\n",
    "from tensorflow.keras.models import Sequential\n",
    "import numpy as np\n",
    "from glob import glob\n",
    "import matplotlib.pyplot as plt"
   ]
  },
  {
   "cell_type": "code",
   "execution_count": 5,
   "id": "ef9a8157",
   "metadata": {},
   "outputs": [],
   "source": [
    "IMAGE_SIZE=[224,224]\n",
    "train_path=\"Dataset\\train\"\n",
    "valid_path=\"Dataset\\val\""
   ]
  },
  {
   "cell_type": "code",
   "execution_count": 6,
   "id": "87d15688",
   "metadata": {},
   "outputs": [],
   "source": [
    "vgg=VGG16(input_shape=IMAGE_SIZE+[3],weights=\"imagenet\",include_top=False)"
   ]
  },
  {
   "cell_type": "code",
   "execution_count": 7,
   "id": "bd9707f7",
   "metadata": {},
   "outputs": [],
   "source": [
    "for layer in vgg.layers:\n",
    "    layer.trainable = False"
   ]
  },
  {
   "cell_type": "code",
   "execution_count": 8,
   "id": "14a71581",
   "metadata": {},
   "outputs": [],
   "source": [
    "folders = glob('Dataset/train/*')"
   ]
  },
  {
   "cell_type": "code",
   "execution_count": 9,
   "id": "70bdc1d9",
   "metadata": {},
   "outputs": [
    {
     "data": {
      "text/plain": [
       "3"
      ]
     },
     "execution_count": 9,
     "metadata": {},
     "output_type": "execute_result"
    }
   ],
   "source": [
    "len(folders)"
   ]
  },
  {
   "cell_type": "code",
   "execution_count": 10,
   "id": "2cf461ba",
   "metadata": {},
   "outputs": [],
   "source": [
    "x = Flatten()(vgg.output)"
   ]
  },
  {
   "cell_type": "code",
   "execution_count": 11,
   "id": "778b5dae",
   "metadata": {},
   "outputs": [],
   "source": [
    "prediction = Dense(len(folders), activation='softmax')(x)\n",
    "model = Model(inputs=vgg.input, outputs=prediction)"
   ]
  },
  {
   "cell_type": "code",
   "execution_count": 12,
   "id": "60a70e2e",
   "metadata": {},
   "outputs": [
    {
     "name": "stdout",
     "output_type": "stream",
     "text": [
      "Model: \"model\"\n",
      "_________________________________________________________________\n",
      " Layer (type)                Output Shape              Param #   \n",
      "=================================================================\n",
      " input_1 (InputLayer)        [(None, 224, 224, 3)]     0         \n",
      "                                                                 \n",
      " block1_conv1 (Conv2D)       (None, 224, 224, 64)      1792      \n",
      "                                                                 \n",
      " block1_conv2 (Conv2D)       (None, 224, 224, 64)      36928     \n",
      "                                                                 \n",
      " block1_pool (MaxPooling2D)  (None, 112, 112, 64)      0         \n",
      "                                                                 \n",
      " block2_conv1 (Conv2D)       (None, 112, 112, 128)     73856     \n",
      "                                                                 \n",
      " block2_conv2 (Conv2D)       (None, 112, 112, 128)     147584    \n",
      "                                                                 \n",
      " block2_pool (MaxPooling2D)  (None, 56, 56, 128)       0         \n",
      "                                                                 \n",
      " block3_conv1 (Conv2D)       (None, 56, 56, 256)       295168    \n",
      "                                                                 \n",
      " block3_conv2 (Conv2D)       (None, 56, 56, 256)       590080    \n",
      "                                                                 \n",
      " block3_conv3 (Conv2D)       (None, 56, 56, 256)       590080    \n",
      "                                                                 \n",
      " block3_pool (MaxPooling2D)  (None, 28, 28, 256)       0         \n",
      "                                                                 \n",
      " block4_conv1 (Conv2D)       (None, 28, 28, 512)       1180160   \n",
      "                                                                 \n",
      " block4_conv2 (Conv2D)       (None, 28, 28, 512)       2359808   \n",
      "                                                                 \n",
      " block4_conv3 (Conv2D)       (None, 28, 28, 512)       2359808   \n",
      "                                                                 \n",
      " block4_pool (MaxPooling2D)  (None, 14, 14, 512)       0         \n",
      "                                                                 \n",
      " block5_conv1 (Conv2D)       (None, 14, 14, 512)       2359808   \n",
      "                                                                 \n",
      " block5_conv2 (Conv2D)       (None, 14, 14, 512)       2359808   \n",
      "                                                                 \n",
      " block5_conv3 (Conv2D)       (None, 14, 14, 512)       2359808   \n",
      "                                                                 \n",
      " block5_pool (MaxPooling2D)  (None, 7, 7, 512)         0         \n",
      "                                                                 \n",
      " flatten (Flatten)           (None, 25088)             0         \n",
      "                                                                 \n",
      " dense (Dense)               (None, 3)                 75267     \n",
      "                                                                 \n",
      "=================================================================\n",
      "Total params: 14,789,955\n",
      "Trainable params: 75,267\n",
      "Non-trainable params: 14,714,688\n",
      "_________________________________________________________________\n"
     ]
    }
   ],
   "source": [
    "model.summary()"
   ]
  },
  {
   "cell_type": "code",
   "execution_count": 13,
   "id": "2bfedaae",
   "metadata": {},
   "outputs": [],
   "source": [
    "model.compile(\n",
    "  loss='categorical_crossentropy',\n",
    "  optimizer='adam',\n",
    "  metrics=['accuracy']\n",
    ")"
   ]
  },
  {
   "cell_type": "code",
   "execution_count": 14,
   "id": "0ec870d8",
   "metadata": {},
   "outputs": [],
   "source": [
    "from tensorflow.keras.preprocessing.image import ImageDataGenerator\n",
    "\n",
    "train_datagen = ImageDataGenerator(rescale = 1./255,\n",
    "                                   shear_range = 0.2,\n",
    "                                   zoom_range = 0.2,\n",
    "                                   horizontal_flip = True)\n",
    "\n",
    "test_datagen = ImageDataGenerator(rescale = 1./255)"
   ]
  },
  {
   "cell_type": "code",
   "execution_count": 15,
   "id": "c0a158d8",
   "metadata": {},
   "outputs": [
    {
     "name": "stdout",
     "output_type": "stream",
     "text": [
      "Found 96 images belonging to 3 classes.\n"
     ]
    }
   ],
   "source": [
    "training_set = train_datagen.flow_from_directory('Dataset/train',\n",
    "                                                 target_size = (224, 224),\n",
    "                                                 batch_size =4,\n",
    "                                                 class_mode = 'categorical')"
   ]
  },
  {
   "cell_type": "code",
   "execution_count": 16,
   "id": "bb9d7cec",
   "metadata": {},
   "outputs": [
    {
     "name": "stdout",
     "output_type": "stream",
     "text": [
      "Found 12 images belonging to 3 classes.\n"
     ]
    }
   ],
   "source": [
    "test_set = test_datagen.flow_from_directory('Dataset/test',\n",
    "                                            target_size = (224, 224),\n",
    "                                            batch_size = 4,\n",
    "                                            class_mode = 'categorical')"
   ]
  },
  {
   "cell_type": "code",
   "execution_count": 17,
   "id": "0ccb8914",
   "metadata": {},
   "outputs": [
    {
     "name": "stderr",
     "output_type": "stream",
     "text": [
      "C:\\Users\\akrit\\AppData\\Local\\Temp/ipykernel_22424/2336048694.py:1: UserWarning: `Model.fit_generator` is deprecated and will be removed in a future version. Please use `Model.fit`, which supports generators.\n",
      "  r = model.fit_generator(\n"
     ]
    },
    {
     "name": "stdout",
     "output_type": "stream",
     "text": [
      "Epoch 1/30\n",
      "24/24 [==============================] - 30s 1s/step - loss: 1.3378 - accuracy: 0.5312 - val_loss: 2.3235 - val_accuracy: 0.3333\n",
      "Epoch 2/30\n",
      "24/24 [==============================] - 27s 1s/step - loss: 0.5413 - accuracy: 0.7604 - val_loss: 2.0874 - val_accuracy: 0.2500\n",
      "Epoch 3/30\n",
      "24/24 [==============================] - 27s 1s/step - loss: 0.2807 - accuracy: 0.8958 - val_loss: 2.1626 - val_accuracy: 0.4167\n",
      "Epoch 4/30\n",
      "24/24 [==============================] - 27s 1s/step - loss: 0.2740 - accuracy: 0.9062 - val_loss: 1.8504 - val_accuracy: 0.4167\n",
      "Epoch 5/30\n",
      "24/24 [==============================] - 27s 1s/step - loss: 0.1228 - accuracy: 0.9688 - val_loss: 2.1094 - val_accuracy: 0.4167\n",
      "Epoch 6/30\n",
      "24/24 [==============================] - 26s 1s/step - loss: 0.0873 - accuracy: 0.9583 - val_loss: 2.0608 - val_accuracy: 0.3333\n",
      "Epoch 7/30\n",
      "24/24 [==============================] - 26s 1s/step - loss: 0.0543 - accuracy: 1.0000 - val_loss: 1.8081 - val_accuracy: 0.4167\n",
      "Epoch 8/30\n",
      "24/24 [==============================] - 27s 1s/step - loss: 0.0557 - accuracy: 0.9792 - val_loss: 1.8036 - val_accuracy: 0.4167\n",
      "Epoch 9/30\n",
      "24/24 [==============================] - 27s 1s/step - loss: 0.0474 - accuracy: 1.0000 - val_loss: 1.8897 - val_accuracy: 0.4167\n",
      "Epoch 10/30\n",
      "24/24 [==============================] - 26s 1s/step - loss: 0.0564 - accuracy: 0.9896 - val_loss: 2.2601 - val_accuracy: 0.4167\n",
      "Epoch 11/30\n",
      "24/24 [==============================] - 27s 1s/step - loss: 0.0291 - accuracy: 1.0000 - val_loss: 1.8164 - val_accuracy: 0.5000\n",
      "Epoch 12/30\n",
      "24/24 [==============================] - 27s 1s/step - loss: 0.0194 - accuracy: 1.0000 - val_loss: 1.7559 - val_accuracy: 0.4167\n",
      "Epoch 13/30\n",
      "24/24 [==============================] - 27s 1s/step - loss: 0.0137 - accuracy: 1.0000 - val_loss: 1.7889 - val_accuracy: 0.4167\n",
      "Epoch 14/30\n",
      "24/24 [==============================] - 26s 1s/step - loss: 0.0223 - accuracy: 1.0000 - val_loss: 1.8696 - val_accuracy: 0.4167\n",
      "Epoch 15/30\n",
      "24/24 [==============================] - 27s 1s/step - loss: 0.0128 - accuracy: 1.0000 - val_loss: 1.9357 - val_accuracy: 0.4167\n",
      "Epoch 16/30\n",
      "24/24 [==============================] - 28s 1s/step - loss: 0.0144 - accuracy: 1.0000 - val_loss: 1.9334 - val_accuracy: 0.4167\n",
      "Epoch 17/30\n",
      "24/24 [==============================] - 29s 1s/step - loss: 0.0177 - accuracy: 1.0000 - val_loss: 2.1261 - val_accuracy: 0.3333\n",
      "Epoch 18/30\n",
      "24/24 [==============================] - 27s 1s/step - loss: 0.0159 - accuracy: 1.0000 - val_loss: 1.9950 - val_accuracy: 0.4167\n",
      "Epoch 19/30\n",
      "24/24 [==============================] - 28s 1s/step - loss: 0.0233 - accuracy: 1.0000 - val_loss: 1.7234 - val_accuracy: 0.5000\n",
      "Epoch 20/30\n",
      "24/24 [==============================] - 28s 1s/step - loss: 0.0082 - accuracy: 1.0000 - val_loss: 1.7513 - val_accuracy: 0.3333\n",
      "Epoch 21/30\n",
      "24/24 [==============================] - 28s 1s/step - loss: 0.0068 - accuracy: 1.0000 - val_loss: 1.7202 - val_accuracy: 0.5000\n",
      "Epoch 22/30\n",
      "24/24 [==============================] - 28s 1s/step - loss: 0.0081 - accuracy: 1.0000 - val_loss: 1.7536 - val_accuracy: 0.5833\n",
      "Epoch 23/30\n",
      "24/24 [==============================] - 28s 1s/step - loss: 0.0060 - accuracy: 1.0000 - val_loss: 1.7393 - val_accuracy: 0.5000\n",
      "Epoch 24/30\n",
      "24/24 [==============================] - 28s 1s/step - loss: 0.0063 - accuracy: 1.0000 - val_loss: 1.7485 - val_accuracy: 0.5000\n",
      "Epoch 25/30\n",
      "24/24 [==============================] - 28s 1s/step - loss: 0.0062 - accuracy: 1.0000 - val_loss: 1.7322 - val_accuracy: 0.5000\n",
      "Epoch 26/30\n",
      "24/24 [==============================] - 27s 1s/step - loss: 0.0055 - accuracy: 1.0000 - val_loss: 1.7915 - val_accuracy: 0.5000\n",
      "Epoch 27/30\n",
      "24/24 [==============================] - 26s 1s/step - loss: 0.0100 - accuracy: 1.0000 - val_loss: 1.7642 - val_accuracy: 0.5000\n",
      "Epoch 28/30\n",
      "24/24 [==============================] - 26s 1s/step - loss: 0.0043 - accuracy: 1.0000 - val_loss: 1.7509 - val_accuracy: 0.4167\n",
      "Epoch 29/30\n",
      "24/24 [==============================] - 26s 1s/step - loss: 0.0044 - accuracy: 1.0000 - val_loss: 1.8007 - val_accuracy: 0.5000\n",
      "Epoch 30/30\n",
      "24/24 [==============================] - 27s 1s/step - loss: 0.0041 - accuracy: 1.0000 - val_loss: 1.7678 - val_accuracy: 0.5000\n"
     ]
    }
   ],
   "source": [
    "r = model.fit_generator(\n",
    "  training_set,\n",
    "  validation_data=test_set,\n",
    "  epochs=30,\n",
    "  steps_per_epoch=len(training_set),\n",
    "  validation_steps=len(test_set)\n",
    ")"
   ]
  },
  {
   "cell_type": "code",
   "execution_count": 18,
   "id": "25aec021",
   "metadata": {},
   "outputs": [
    {
     "name": "stdout",
     "output_type": "stream",
     "text": [
      "Overwriting app.py\n"
     ]
    }
   ],
   "source": [
    "%%writefile app.py\n",
    "import streamlit as st\n",
    "import tensorflow as tf\n",
    "st.set_option('deprecation.showfileUploaderEncoding',False)\n",
    "def load_model():\n",
    "    model=tf.keras.models.load_model(\"mymodel2.hdf5\")\n",
    "    return model\n",
    "model=load_model()\n",
    "st.write(\"Leaf detection\")\n",
    "file=st.file_uploader(\"Please upload image\",type=[\"jpg\",\"png\",\"jpeg\"])\n",
    "import cv2\n",
    "from PIL import Image,ImageOps\n",
    "import numpy as np\n",
    "def import_and_predict(image_data,model):\n",
    "    size=(224,224)\n",
    "    image=ImageOps.fit(image_data,size,Image.ANTIALIAS)\n",
    "    image=np.asarray(image)\n",
    "    image_reshape=image[np.newaxis,...]\n",
    "    prediction=model.predict(image_reshape)\n",
    "if file is None:\n",
    "    st.text(\"Please upload an image file\")\n",
    "else:\n",
    "    image=Image.open(file)\n",
    "    st.image(image,use_column_width=True)\n",
    "    predictions=import_and_predict(image,model)\n",
    "    class_names=['Brown Spot','Leaf smut','Bacterial leaf blight']\n",
    "    strings=\"The disease detected in this leaf is : \"+class_names[np.argmax(predictions)]\n",
    "    st.success(strings)    \n",
    "\n"
   ]
  },
  {
   "cell_type": "code",
   "execution_count": null,
   "id": "104c2664",
   "metadata": {},
   "outputs": [],
   "source": []
  }
 ],
 "metadata": {
  "kernelspec": {
   "display_name": "Python 3 (ipykernel)",
   "language": "python",
   "name": "python3"
  },
  "language_info": {
   "codemirror_mode": {
    "name": "ipython",
    "version": 3
   },
   "file_extension": ".py",
   "mimetype": "text/x-python",
   "name": "python",
   "nbconvert_exporter": "python",
   "pygments_lexer": "ipython3",
   "version": "3.9.7"
  }
 },
 "nbformat": 4,
 "nbformat_minor": 5
}
